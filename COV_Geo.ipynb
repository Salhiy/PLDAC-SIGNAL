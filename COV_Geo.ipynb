{
 "cells": [
  {
   "cell_type": "code",
   "execution_count": 42,
   "metadata": {},
   "outputs": [
    {
     "name": "stdout",
     "output_type": "stream",
     "text": [
      "Defaulting to user installation because normal site-packages is not writeable\n",
      "Collecting pyod==0.3.4\n",
      "  Using cached pyod-0.3.4.tar.gz (194 kB)\n",
      "  Preparing metadata (setup.py) ... \u001b[?25lerror\n",
      "  \u001b[1;31merror\u001b[0m: \u001b[1msubprocess-exited-with-error\u001b[0m\n",
      "  \n",
      "  \u001b[31m×\u001b[0m \u001b[32mpython setup.py egg_info\u001b[0m did not run successfully.\n",
      "  \u001b[31m│\u001b[0m exit code: \u001b[1;36m1\u001b[0m\n",
      "  \u001b[31m╰─>\u001b[0m \u001b[31m[12 lines of output]\u001b[0m\n",
      "  \u001b[31m   \u001b[0m Traceback (most recent call last):\n",
      "  \u001b[31m   \u001b[0m   File \"<string>\", line 2, in <module>\n",
      "  \u001b[31m   \u001b[0m   File \"<pip-setuptools-caller>\", line 34, in <module>\n",
      "  \u001b[31m   \u001b[0m   File \"/private/var/folders/jt/l64gyc6x6d591spvk3ctx7vm0000gn/T/pip-install-dm7mxakw/pyod_b3b960d5462a4430ab5d560304e48b08/setup.py\", line 2, in <module>\n",
      "  \u001b[31m   \u001b[0m     from pyod import __version__\n",
      "  \u001b[31m   \u001b[0m   File \"/private/var/folders/jt/l64gyc6x6d591spvk3ctx7vm0000gn/T/pip-install-dm7mxakw/pyod_b3b960d5462a4430ab5d560304e48b08/pyod/__init__.py\", line 3, in <module>\n",
      "  \u001b[31m   \u001b[0m     from . import models\n",
      "  \u001b[31m   \u001b[0m   File \"/private/var/folders/jt/l64gyc6x6d591spvk3ctx7vm0000gn/T/pip-install-dm7mxakw/pyod_b3b960d5462a4430ab5d560304e48b08/pyod/models/__init__.py\", line 1, in <module>\n",
      "  \u001b[31m   \u001b[0m     from .abod import ABOD\n",
      "  \u001b[31m   \u001b[0m   File \"/private/var/folders/jt/l64gyc6x6d591spvk3ctx7vm0000gn/T/pip-install-dm7mxakw/pyod_b3b960d5462a4430ab5d560304e48b08/pyod/models/abod.py\", line 4, in <module>\n",
      "  \u001b[31m   \u001b[0m     from sklearn.neighbors import KDTree\n",
      "  \u001b[31m   \u001b[0m ModuleNotFoundError: No module named 'sklearn'\n",
      "  \u001b[31m   \u001b[0m \u001b[31m[end of output]\u001b[0m\n",
      "  \n",
      "  \u001b[1;35mnote\u001b[0m: This error originates from a subprocess, and is likely not a problem with pip.\n",
      "\u001b[?25h\u001b[1;31merror\u001b[0m: \u001b[1mmetadata-generation-failed\u001b[0m\n",
      "\n",
      "\u001b[31m×\u001b[0m Encountered error while generating package metadata.\n",
      "\u001b[31m╰─>\u001b[0m See above for output.\n",
      "\n",
      "\u001b[1;35mnote\u001b[0m: This is an issue with the package mentioned above, not pip.\n",
      "\u001b[1;36mhint\u001b[0m: See above for details.\n"
     ]
    }
   ],
   "source": [
    "import numpy as np\n",
    "import pandas as pd\n",
    "import matplotlib.pyplot as plt\n",
    "import seaborn as sns\n",
    "import math\n",
    "import torch\n",
    "import torch.nn as nn\n",
    "import torch.nn.functional as F\n",
    "import random\n",
    "import torch.optim as optim\n",
    "from utils import *"
   ]
  },
  {
   "cell_type": "code",
   "execution_count": 2,
   "metadata": {},
   "outputs": [],
   "source": [
    "X, Y, S = read_h5py('SoliData.zip', reshaped=True)"
   ]
  },
  {
   "cell_type": "code",
   "execution_count": 20,
   "metadata": {},
   "outputs": [
    {
     "data": {
      "text/plain": [
       "(68, 32, 32)"
      ]
     },
     "execution_count": 20,
     "metadata": {},
     "output_type": "execute_result"
    }
   ],
   "source": [
    "X[0].shape"
   ]
  },
  {
   "cell_type": "code",
   "execution_count": 34,
   "metadata": {},
   "outputs": [],
   "source": [
    "def aply_cov(X, method=\"easy_sum\"):\n",
    "    X_cov = []\n",
    "    if (method==\"join_sum\"):\n",
    "        '''\n",
    "            on effectue la covariance sur la jointure des matrice de chaque x_i \n",
    "            on considere que chaque x_i contient une matrice\n",
    "            ex : x_i = [[1,2,3], [3, 4, 5]]\n",
    "            alors on considere que x_i = [1, 2, 3, 4, 4] et on calcul la cov sur cela\n",
    "        '''\n",
    "        for x in X:\n",
    "            #merging...\n",
    "            x_merged = x[0].T\n",
    "            for x_ in x[1:]:\n",
    "                x_merged = np.concatenate((x_merged, x_.T), axis=1)\n",
    "            #calculate the cov\n",
    "            X_cov.append(np.cov(x_merged))\n",
    "    elif (method==\"easy_sum\"):\n",
    "        for x in X:\n",
    "            cov = np.zeros(shape=(32, 32))\n",
    "            for x_ in x:\n",
    "                cov = cov + np.cov(x_.T)\n",
    "            X_cov.append(cov*(1/x.shape[0]))\n",
    "    elif (method==\"temp_sum\"):\n",
    "        '''\n",
    "            par matrice temporelle\n",
    "            C_t = somme(cov(x_Td))\n",
    "        '''\n",
    "        for x in X:\n",
    "            cov = np.zeros(shape=x.shape[0])\n",
    "            for x_ in x:\n",
    "                c_t = 0\n",
    "                for x_i in x_:\n",
    "                    c_t = c_t + np.cov(x_i)\n",
    "                cov = np.append(cov, c_t*(1/x.shape[0]))\n",
    "            X_cov.append(cov)\n",
    "            \n",
    "    return np.array(X_cov, dtype=\"object\")"
   ]
  },
  {
   "cell_type": "code",
   "execution_count": 40,
   "metadata": {},
   "outputs": [],
   "source": [
    "data_augment  = data_augment(X, Y, S, pourcentage=1)\n",
    "X_augmented = np.concatenate((X, data_augment[0]), axis=0) \n",
    "Y_augmented = np.concatenate((Y, data_augment[1]), axis=0)\n",
    "S_augmented = np.concatenate((S, data_augment[2]), axis=0)"
   ]
  },
  {
   "cell_type": "code",
   "execution_count": 36,
   "metadata": {},
   "outputs": [
    {
     "ename": "KeyboardInterrupt",
     "evalue": "",
     "output_type": "error",
     "traceback": [
      "\u001b[0;31m---------------------------------------------------------------------------\u001b[0m",
      "\u001b[0;31mKeyboardInterrupt\u001b[0m                         Traceback (most recent call last)",
      "Cell \u001b[0;32mIn[36], line 1\u001b[0m\n\u001b[0;32m----> 1\u001b[0m x \u001b[38;5;241m=\u001b[39m \u001b[43maply_cov\u001b[49m\u001b[43m(\u001b[49m\u001b[43mX\u001b[49m\u001b[43m,\u001b[49m\u001b[43m \u001b[49m\u001b[43mmethod\u001b[49m\u001b[38;5;241;43m=\u001b[39;49m\u001b[38;5;124;43m\"\u001b[39;49m\u001b[38;5;124;43mtemp_sum\u001b[39;49m\u001b[38;5;124;43m\"\u001b[39;49m\u001b[43m)\u001b[49m\n",
      "Cell \u001b[0;32mIn[34], line 33\u001b[0m, in \u001b[0;36maply_cov\u001b[0;34m(X, method)\u001b[0m\n\u001b[1;32m     31\u001b[0m     c_t \u001b[38;5;241m=\u001b[39m \u001b[38;5;241m0\u001b[39m\n\u001b[1;32m     32\u001b[0m     \u001b[38;5;28;01mfor\u001b[39;00m x_i \u001b[38;5;129;01min\u001b[39;00m x_:\n\u001b[0;32m---> 33\u001b[0m         c_t \u001b[38;5;241m=\u001b[39m c_t \u001b[38;5;241m+\u001b[39m \u001b[43mnp\u001b[49m\u001b[38;5;241;43m.\u001b[39;49m\u001b[43mcov\u001b[49m\u001b[43m(\u001b[49m\u001b[43mx_i\u001b[49m\u001b[43m)\u001b[49m\n\u001b[1;32m     34\u001b[0m     cov \u001b[38;5;241m=\u001b[39m np\u001b[38;5;241m.\u001b[39mappend(cov, c_t\u001b[38;5;241m*\u001b[39m(\u001b[38;5;241m1\u001b[39m\u001b[38;5;241m/\u001b[39mx\u001b[38;5;241m.\u001b[39mshape[\u001b[38;5;241m0\u001b[39m]))\n\u001b[1;32m     35\u001b[0m X_cov\u001b[38;5;241m.\u001b[39mappend(cov)\n",
      "File \u001b[0;32m<__array_function__ internals>:200\u001b[0m, in \u001b[0;36mcov\u001b[0;34m(*args, **kwargs)\u001b[0m\n",
      "File \u001b[0;32m~/Library/Python/3.8/lib/python/site-packages/numpy/lib/function_base.py:2681\u001b[0m, in \u001b[0;36mcov\u001b[0;34m(m, y, rowvar, bias, ddof, fweights, aweights, dtype)\u001b[0m\n\u001b[1;32m   2678\u001b[0m     \u001b[38;5;28;01melse\u001b[39;00m:\n\u001b[1;32m   2679\u001b[0m         w \u001b[38;5;241m*\u001b[39m\u001b[38;5;241m=\u001b[39m aweights\n\u001b[0;32m-> 2681\u001b[0m avg, w_sum \u001b[38;5;241m=\u001b[39m average(X, axis\u001b[38;5;241m=\u001b[39m\u001b[38;5;241m1\u001b[39m, weights\u001b[38;5;241m=\u001b[39mw, returned\u001b[38;5;241m=\u001b[39m\u001b[38;5;28;01mTrue\u001b[39;00m)\n\u001b[1;32m   2682\u001b[0m w_sum \u001b[38;5;241m=\u001b[39m w_sum[\u001b[38;5;241m0\u001b[39m]\n\u001b[1;32m   2684\u001b[0m \u001b[38;5;66;03m# Determine the normalization\u001b[39;00m\n",
      "\u001b[0;31mKeyboardInterrupt\u001b[0m: "
     ]
    }
   ],
   "source": [
    "x = aply_cov(X, method=\"temp_sum\")"
   ]
  }
 ],
 "metadata": {
  "kernelspec": {
   "display_name": "Python 3",
   "language": "python",
   "name": "python3"
  },
  "language_info": {
   "codemirror_mode": {
    "name": "ipython",
    "version": 3
   },
   "file_extension": ".py",
   "mimetype": "text/x-python",
   "name": "python",
   "nbconvert_exporter": "python",
   "pygments_lexer": "ipython3",
   "version": "3.8.9"
  }
 },
 "nbformat": 4,
 "nbformat_minor": 2
}
