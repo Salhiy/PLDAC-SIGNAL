{
 "cells": [
  {
   "cell_type": "code",
   "execution_count": 1,
   "metadata": {},
   "outputs": [],
   "source": [
    "from reader import read_h5py"
   ]
  },
  {
   "cell_type": "code",
   "execution_count": 70,
   "metadata": {},
   "outputs": [],
   "source": [
    "import numpy as np\n",
    "def center(X):\n",
    "    X_centred = np.zeros(shape=X.shape, dtype=X.dtype)\n",
    "    mean = np.mean(X, axis=1)\n",
    "    for i in range(0, X.shape[0]):\n",
    "        X_centred[i] = X[i] - mean[i]\n",
    "    return X_centred\n",
    "\n",
    "def cov(X, lamda=10e-2):\n",
    "    bias = (1 / (X.shape[0]-1)) if X.shape[0] != 1 else 1\n",
    "    cov_matrix = bias * (np.dot(X.T, X))\n",
    "    return cov_matrix + lamda * np.eye(X.shape[0])\n",
    "\n",
    "def compute_sum_cov(X):\n",
    "    '''\n",
    "        on calcule la somme des cov(x_i) pour chaque x\n",
    "    '''\n",
    "    X_cov = []\n",
    "    for x in X:\n",
    "        x_cov = cov(center(x[0].T))\n",
    "        for x_ in x[1:]:\n",
    "            x_cov = x_cov + cov(center(x_.T))\n",
    "        X_cov.append(x_cov)\n",
    "    return np.array(X_cov, dtype=\"object\")"
   ]
  },
  {
   "cell_type": "code",
   "execution_count": 56,
   "metadata": {},
   "outputs": [],
   "source": [
    "X, Y, S = read_h5py(\"./SoliData.zip\", reshaped=True)"
   ]
  },
  {
   "cell_type": "code",
   "execution_count": 71,
   "metadata": {},
   "outputs": [
    {
     "data": {
      "text/plain": [
       "array([[ 0.00717202,  0.00717202,  0.00717202, ...,  0.00717202,\n",
       "         0.00717202,  0.00717202],\n",
       "       [-0.06005361, -0.06005361, -0.06005361, ..., -0.06005361,\n",
       "        -0.06005361, -0.06005361],\n",
       "       [-0.06374837, -0.06374837, -0.06374837, ..., -0.06374837,\n",
       "        -0.06374837, -0.06374837],\n",
       "       ...,\n",
       "       [ 0.00717202,  0.00717202,  0.00717202, ...,  0.00717202,\n",
       "         0.00717202,  0.00717202],\n",
       "       [ 0.00717202,  0.00717202,  0.00717202, ...,  0.00717202,\n",
       "         0.00717202,  0.00717202],\n",
       "       [ 0.00717202,  0.00717202,  0.00717202, ...,  0.00717202,\n",
       "         0.00717202,  0.00717202]], dtype=float32)"
      ]
     },
     "execution_count": 71,
     "metadata": {},
     "output_type": "execute_result"
    }
   ],
   "source": [
    "center(X[0][0])"
   ]
  }
 ],
 "metadata": {
  "kernelspec": {
   "display_name": "Python 3",
   "language": "python",
   "name": "python3"
  },
  "language_info": {
   "codemirror_mode": {
    "name": "ipython",
    "version": 3
   },
   "file_extension": ".py",
   "mimetype": "text/x-python",
   "name": "python",
   "nbconvert_exporter": "python",
   "pygments_lexer": "ipython3",
   "version": "3.8.9"
  }
 },
 "nbformat": 4,
 "nbformat_minor": 2
}
