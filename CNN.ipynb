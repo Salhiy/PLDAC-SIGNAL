{
 "cells": [
  {
   "cell_type": "code",
   "execution_count": 3,
   "id": "b4dafaf8-d77f-4d93-9485-3611ab9d2994",
   "metadata": {},
   "outputs": [],
   "source": [
    "import numpy as np\n",
    "import pandas as pd\n",
    "import h5py\n",
    "import matplotlib.pyplot as plt\n",
    "import zipfile\n",
    "import io\n",
    "import seaborn as sns\n",
    "import math\n",
    "import torch\n",
    "import torch.nn as nn\n",
    "import torch.nn.functional as F\n",
    "import random\n",
    "import torch.optim as optim"
   ]
  },
  {
   "cell_type": "code",
   "execution_count": 4,
   "id": "b618695a-acc9-4da5-9dac-a7e7a4f17164",
   "metadata": {},
   "outputs": [],
   "source": [
    "def read_h5py(zip_filename, reshaped=False):\n",
    "\n",
    "    folder_name = 'dsp'\n",
    "    use_channels = [0, 1, 2]\n",
    "\n",
    "    X, Y, S = [], [], [], []\n",
    "\n",
    "    with zipfile.ZipFile(zip_filename, 'r') as zip_ref:\n",
    "        for file_info in zip_ref.infolist():\n",
    "            if file_info.filename.startswith(folder_name) and not file_info.is_dir():\n",
    "                # Extract the file from the zip archive\n",
    "                with zip_ref.open(file_info) as hdf5_file:\n",
    "                    with h5py.File(io.BytesIO(hdf5_file.read()), 'r') as hdf5_data:\n",
    "                      for use_channel in use_channels:\n",
    "                        row = hdf5_data['ch{}'.format(use_channel)][()]\n",
    "                        if (not reshaped):\n",
    "                            X.append(row)\n",
    "                        else:\n",
    "                            row_reshaped = []\n",
    "                            for index, x in enumerate(row):\n",
    "                                row_reshaped.append(x.reshape(32, 32))\n",
    "                            X.append(np.array(row_reshaped))\n",
    "                        Y.append(hdf5_data['label'][()][0])\n",
    "                        S.append(file_info.filename.replace(\"dsp/\", \"\").split(\"_\")[0])\n",
    "    return np.array(X, dtype=\"object\"), np.array(Y, dtype=\"object\"), np.array(S, dtype=\"object\")"
   ]
  },
  {
   "cell_type": "code",
   "execution_count": 5,
   "id": "651d0cf0-5871-4b3c-98f4-55adb0bda893",
   "metadata": {},
   "outputs": [],
   "source": [
    "X_reshaped, X, Y, S = read_h5py('SoliData.zip')"
   ]
  },
  {
   "cell_type": "code",
   "execution_count": 6,
   "id": "a76a093a-84be-45cc-b2f5-3476921dcaab",
   "metadata": {},
   "outputs": [
    {
     "data": {
      "text/plain": [
       "<matplotlib.image.AxesImage at 0x16be45af0>"
      ]
     },
     "execution_count": 6,
     "metadata": {},
     "output_type": "execute_result"
    },
    {
     "data": {
      "image/png": "[encoded data removed]",
      "text/plain": [
       "<Figure size 640x480 with 1 Axes>"
      ]
     },
     "metadata": {},
     "output_type": "display_data"
    }
   ],
   "source": [
    "plt.imshow(X[2][0])"
   ]
  },
  {
   "cell_type": "code",
   "execution_count": 5,
   "id": "abf6e32d-34c8-496d-ac63-30f8a4bbe916",
   "metadata": {},
   "outputs": [],
   "source": [
    "def apply_cov(X):\n",
    "    X_cov = np.zeros(shape=X.shape , dtype='object')\n",
    "    for index, x in enumerate(X):\n",
    "        x_transpose = np.transpose(x)\n",
    "        X_cov[index] = np.cov(x_transpose)\n",
    "    return X_cov"
   ]
  },
  {
   "cell_type": "markdown",
   "id": "dc7275d0-f463-4bf8-8b82-11a6f8580978",
   "metadata": {},
   "source": [
    "# Leave one out cross validation"
   ]
  },
  {
   "cell_type": "code",
   "execution_count": 6,
   "id": "25e061ea-392e-452a-8034-273203454c5f",
   "metadata": {},
   "outputs": [],
   "source": [
    "def leave_one_out_crosse_split(X, Y, S, s):\n",
    "  print(f'Subject number : {s}')\n",
    "  X_train, Y_train, X_test, Y_test = [], [], [], []\n",
    "  for index, v in enumerate(X):\n",
    "    if S[index] == s:\n",
    "      X_test.append(v)\n",
    "      Y_test.append(Y[index])\n",
    "    else:\n",
    "      X_train.append(v)\n",
    "      Y_train.append(Y[index])\n",
    "  return np.array(X_train), np.array(Y_train, dtype='int'), np.array(X_test), np.array(Y_test, dtype='int')"
   ]
  },
  {
   "cell_type": "code",
   "execution_count": 7,
   "id": "cb09e946-373e-4a97-8ecc-88427b248628",
   "metadata": {},
   "outputs": [],
   "source": [
    "def leave_one_out_cross_score(X, Y, S, train_method, showError=False):\n",
    "\n",
    "  predectid_labels = []\n",
    "  accuracy = []\n",
    "  Iterations = []\n",
    "\n",
    "  subjects = np.unique(S)\n",
    "\n",
    "  for i, s in enumerate(subjects):\n",
    "    X_train, Y_train, X_test, Y_test = leave_one_out_crosse_split(X, Y, S, s)\n",
    "    \n",
    "    score = train_method(X_train, X_test, Y_train, Y_test, eval=False)\n",
    "    accuracy.append(score)\n",
    "    Iterations.append(i)\n",
    "\n",
    "  if (showError):\n",
    "    plt.plot(Iterations, accuracy)\n",
    "    # Add labels and title\n",
    "    plt.xlabel('Iteration')\n",
    "    plt.ylabel('Error')\n",
    "    plt.title('Accuracy per Iteration')\n",
    "\n",
    "  score = np.mean(np.array([accuracy]))\n",
    "\n",
    "  return score"
   ]
  },
  {
   "cell_type": "markdown",
   "id": "3c4e7fe9-f1ee-4f52-b10e-2129d0057b69",
   "metadata": {},
   "source": [
    "# Augmentation de la donné (TIME SHIFT + SPECAUGMENT + SPECCOUTOUT)"
   ]
  },
  {
   "cell_type": "code",
   "execution_count": 8,
   "id": "764044e9-eb55-4606-bdcc-bd0081a7e3ed",
   "metadata": {},
   "outputs": [],
   "source": [
    "def time_shift(X, max_shift = 5):\n",
    "    shifted_X = np.zeros_like(X)\n",
    "    \n",
    "    for i in range(X.shape[0]):\n",
    "        shift_value = np.random.randint(-max_shift, max_shift + 1)\n",
    "        shifted_X[i] = np.roll(X[i], shift_value, axis=1)\n",
    "        \n",
    "    return shifted_X"
   ]
  },
  {
   "cell_type": "code",
   "execution_count": 9,
   "id": "ecd81a78-c8fc-4f6c-94ee-e28659344a2f",
   "metadata": {},
   "outputs": [],
   "source": [
    "def add_white_noise_image(image, min_db=-90, max_db=-46):\n",
    "\n",
    "    noise = np.random.normal(0, 1, image.shape)\n",
    "    \n",
    "    image_power = np.mean(np.abs(image) ** 2)\n",
    "    \n",
    "    noise_power = np.mean(np.abs(noise) ** 2)\n",
    "    \n",
    "    min_power = 10 ** (min_db / 10)\n",
    "    max_power = 10 ** (max_db / 10)\n",
    "    scale_factor = np.sqrt((max_power - min_power) / noise_power)\n",
    "    \n",
    "    scaled_noise = noise * scale_factor\n",
    "    \n",
    "    noisy_image = image + scaled_noise\n",
    "    \n",
    "    return noisy_image"
   ]
  },
  {
   "cell_type": "code",
   "execution_count": 10,
   "id": "62a58ed1-e26f-45ed-83c8-7e4cc340922a",
   "metadata": {},
   "outputs": [],
   "source": [
    "def image_cutout(image, max_rectangles=5, max_size=(25, 15)):\n",
    "    augmented_image = np.copy(image)\n",
    "    height, width = image.shape[:2]\n",
    "    \n",
    "    for _ in range(max_rectangles):\n",
    "        rect_height = np.random.randint(1, max_size[0] + 1)\n",
    "        rect_width = np.random.randint(1, max_size[1] + 1)\n",
    "        y = np.random.randint(0, height - rect_height + 1)\n",
    "        x = np.random.randint(0, width - rect_width + 1)\n",
    "        augmented_image[y:y+rect_height, x:x+rect_width] = 0\n",
    "    \n",
    "    return augmented_image"
   ]
  },
  {
   "cell_type": "markdown",
   "id": "156f63f6-f944-482a-b4fa-ba004bcd977e",
   "metadata": {},
   "source": [
    "# Test de l'augmentation de donné"
   ]
  },
  {
   "cell_type": "code",
   "execution_count": 11,
   "id": "410f4282-ba0c-4256-b500-5647f4f267e6",
   "metadata": {},
   "outputs": [
    {
     "data": {
      "text/plain": [
       "Text(0.5, 1.0, 'without cutout')"
      ]
     },
     "execution_count": 11,
     "metadata": {},
     "output_type": "execute_result"
    },
    {
     "data": {
      "image/png": "[encoded data removed]",
      "text/plain": [
       "<Figure size 640x480 with 4 Axes>"
      ]
     },
     "metadata": {},
     "output_type": "display_data"
    }
   ],
   "source": [
    "fig, axes = plt.subplots(nrows=2, ncols=2)\n",
    "axes[0, 0].imshow(add_white_noise_image(X[0][0]))\n",
    "axes[0, 0].set_title(\"with noise\")\n",
    "axes[0, 1].imshow(X[0][0])\n",
    "axes[0, 1].set_title(\"without noise\")\n",
    "\n",
    "axes[1, 0].imshow(image_cutout(X[0][0]))\n",
    "axes[1, 0].set_title(\"with cutout\")\n",
    "axes[1, 1].imshow(X[0][0])\n",
    "axes[1, 1].set_title(\"without cutout\")"
   ]
  },
  {
   "cell_type": "code",
   "execution_count": 12,
   "id": "63335b82-d2c0-4d25-b966-5bfe47d1f86e",
   "metadata": {},
   "outputs": [],
   "source": [
    "def data_augment(X, Y, S, pourcentage):\n",
    "    X_augmented = []\n",
    "    Y_augmented = []\n",
    "    S_augmented = []\n",
    "\n",
    "    slice = int(X.shape[0] * pourcentage)\n",
    "\n",
    "    data_ziped = list(zip(X[:slice], Y[:slice], S[:slice]))\n",
    "    np.random.shuffle(data_ziped)\n",
    "\n",
    "    #time shift\n",
    "    for z in data_ziped:\n",
    "        X_augmented.append(time_shift(z[0]))\n",
    "        Y_augmented.append(z[1])\n",
    "        S_augmented.append(z[2])\n",
    "        \n",
    "    for i, x in enumerate(X_augmented):\n",
    "        for j, y in enumerate(x):\n",
    "            X_augmented[i][j] = add_white_noise_image(y)\n",
    "            X_augmented[i][j] = image_cutout(y)\n",
    "    return np.array(X_augmented, dtype=\"object\"), np.array(Y_augmented, dtype=\"object\"), np.array(S_augmented, dtype=\"object\")"
   ]
  },
  {
   "cell_type": "markdown",
   "id": "1be306ec-3bd1-4869-aaa5-bc7234128ee4",
   "metadata": {},
   "source": [
    "# Data preprocess"
   ]
  },
  {
   "cell_type": "code",
   "execution_count": 12,
   "id": "44a8c895-fc67-43fb-9f14-ed4e34edc7d7",
   "metadata": {},
   "outputs": [],
   "source": [
    "def min_max_scaling_3d(data, a=0, b=1):\n",
    "    # Calculate min and max along the specified axis\n",
    "    min_vals = np.min(data)\n",
    "    max_vals = np.max(data)\n",
    "    \n",
    "    # Perform Min-Max scaling\n",
    "    scaled_data = (data - min_vals) / (max_vals - min_vals) * (b - a) + a\n",
    "    \n",
    "    return scaled_data"
   ]
  },
  {
   "cell_type": "code",
   "execution_count": 10,
   "id": "c88dd437-b72b-430b-9135-4e06f8d0b075",
   "metadata": {
    "scrolled": true
   },
   "outputs": [],
   "source": [
    "def pre_process_data(X, Y, S, apply_cov=False):\n",
    "  X_cov, X_log = [], []\n",
    "  if (apply_cov):\n",
    "      X_cov = apply_cov(X)\n",
    "  \n",
    "  #apply log and reshape\n",
    "  for x in X:\n",
    "      sub_X_cov = []\n",
    "      for y in x:\n",
    "          sub_X_cov.append(np.log(y + 1e-3))\n",
    "      X_log.append(np.array(sub_X_cov, dtype=np.float32))\n",
    "            \n",
    "  N = np.array(X_log, dtype=\"object\")\n",
    "  scalled = []\n",
    "  #apply min max truncation\n",
    "  for x in N:\n",
    "      scalled.append(min_max_scaling_3d(x))\n",
    "\n",
    "  return np.array(scalled, dtype=\"object\") ,np.ravel(Y).astype('int'), np.ravel(S).astype('int')"
   ]
  },
  {
   "cell_type": "markdown",
   "id": "a82395de-83c2-4f5e-90a9-d3711924cea6",
   "metadata": {},
   "source": [
    "# Implementation de l'architecture CNN, suivie de 3 layers pour la classification"
   ]
  },
  {
   "cell_type": "code",
   "execution_count": 16,
   "id": "d051a8a9",
   "metadata": {},
   "outputs": [],
   "source": [
    "def train_test_split(X, Y, test_size=0.4, random_state=None):\n",
    "    if random_state is not None:\n",
    "        random.seed(random_state)\n",
    "    \n",
    "    combined_data = list(zip(X, Y))\n",
    "    \n",
    "    random.shuffle(combined_data)\n",
    "    \n",
    "    split_index = int(len(combined_data) * (1 - test_size))\n",
    "    \n",
    "    X_train = [sample[0] for sample in combined_data[:split_index]]\n",
    "    Y_train = [sample[1] for sample in combined_data[:split_index]]\n",
    "    X_test = [sample[0] for sample in combined_data[split_index:]]\n",
    "    Y_test = [sample[1] for sample in combined_data[split_index:]]\n",
    "    \n",
    "    return X_train, X_test, Y_train, Y_test"
   ]
  },
  {
   "cell_type": "code",
   "execution_count": 54,
   "id": "09e387a1-149c-4cd7-a973-27f2d3ea2ea3",
   "metadata": {},
   "outputs": [],
   "source": [
    "class CNN_FC(nn.Module):\n",
    "    def __init__(self, num_class = 12):\n",
    "        super(CNN, self).__init__()\n",
    "        self.conv1 = nn.Conv2d(in_channels=1, out_channels=32, kernel_size=(3, 3), stride=(1, 1), padding=(1, 1))\n",
    "        self.pool = nn.MaxPool2d(kernel_size=(2, 2), stride=(2, 2))\n",
    "        self.conv2 = nn.Conv2d(in_channels=32, out_channels=64, kernel_size=(3, 3), stride=(1, 1), padding=(1, 1))\n",
    "        self.conv3 = nn.Conv2d(in_channels=64, out_channels=128, kernel_size=(3, 3), stride=(1, 1), padding=(1, 1))\n",
    "        self.bn1 = nn.BatchNorm2d(32)\n",
    "        self.bn2 = nn.BatchNorm2d(64)\n",
    "        self.bn3 = nn.BatchNorm2d(128)\n",
    "        self.droup_out1 = nn.Dropout()\n",
    "        self.droup_out2 = nn.Dropout()\n",
    "        self.fc1 = nn.Linear(128*4*4, 512)\n",
    "        self.fc2 = nn.Linear(512, 512)\n",
    "        self.output = nn.Linear(512, num_class) \n",
    "        \n",
    "    def forward(self, x):\n",
    "        x = F.relu(self.bn1(self.conv1(x)))\n",
    "        x = self.pool(x)\n",
    "        x = F.relu(self.bn2(self.conv2(x)))\n",
    "        x = self.pool(x)\n",
    "        x = F.relu(self.bn3(self.conv3(x)))\n",
    "        x = self.pool(x)\n",
    "        x = x.view(-1, 128*4*4)\n",
    "        x = F.relu(self.fc1(x))\n",
    "        x = self.droup_out1(x)\n",
    "        x = F.relu(self.fc2(x))\n",
    "        x = self.droup_out2(x)\n",
    "        x = F.softmax(self.output(x), dim=0)\n",
    "        return x\n",
    "    \n",
    "    def prediction(self, x):\n",
    "        pred = self.forward(x)\n",
    "        return torch.argmax(pred).item()\n"
   ]
  },
  {
   "cell_type": "markdown",
   "id": "6149d2bc-fcae-497e-baf2-fc739155981f",
   "metadata": {},
   "source": [
    "# Preprocess the data"
   ]
  },
  {
   "cell_type": "code",
   "execution_count": 13,
   "id": "12e28f27-40ce-4367-9d07-a7fc0cabd7dd",
   "metadata": {},
   "outputs": [],
   "source": [
    "X_preprossed, Y_preprossed, S = pre_process_data(X, Y, S)"
   ]
  },
  {
   "cell_type": "code",
   "execution_count": 55,
   "id": "51cb2270-202d-4503-8f03-6c217d77ee63",
   "metadata": {},
   "outputs": [],
   "source": [
    "X_train, X_test, Y_train, Y_test = train_test_split(X_preprossed, Y_preprossed)\n",
    "\n",
    "criterion = nn.CrossEntropyLoss()\n",
    "num_epochs = 100\n",
    "\n",
    "device = torch.device(\"cuda\" if torch.cuda.is_available() else \"cpu\")\n",
    "model = CNN().to(device)\n",
    "\n",
    "optimizer = optim.Adam(model.parameters(), lr=0.01)"
   ]
  },
  {
   "cell_type": "code",
   "execution_count": 53,
   "id": "ba61e440",
   "metadata": {},
   "outputs": [
    {
     "name": "stdout",
     "output_type": "stream",
     "text": [
      "torch.Size([68, 1, 32, 32])\n",
      "torch.Size([139264])\n",
      "tensor([4, 4, 4, 4, 4, 4, 4, 4, 4, 4, 4, 4, 4, 4, 4, 4, 4, 4, 4, 4, 4, 4, 4, 4,\n",
      "        4, 4, 4, 4, 4, 4, 4, 4, 4, 4, 4, 4, 4, 4, 4, 4, 4, 4, 4, 4, 4, 4, 4, 4,\n",
      "        4, 4, 4, 4, 4, 4, 4, 4, 4, 4, 4, 4, 4, 4, 4, 4, 4, 4, 4, 4])\n",
      "torch.Size([68, 12])\n",
      "tensor(2.4849, grad_fn=<NllLossBackward0>)\n"
     ]
    }
   ],
   "source": [
    "X = torch.tensor(np.expand_dims(X_preprossed[0], axis=1), dtype=torch.float32).to(device)\n",
    "print(X.shape)\n",
    "o = model(X)\n",
    "y = torch.tensor([Y_train[0]] * 68, dtype=torch.long).to(device)\n",
    "print(y)\n",
    "print(o.shape)\n",
    "print(criterion(o, y ))"
   ]
  },
  {
   "cell_type": "code",
   "execution_count": 56,
   "id": "cc3e9073-9f61-4bcd-addf-f1b827b70e92",
   "metadata": {},
   "outputs": [
    {
     "ename": "KeyboardInterrupt",
     "evalue": "",
     "output_type": "error",
     "traceback": [
      "\u001b[0;31m---------------------------------------------------------------------------\u001b[0m",
      "\u001b[0;31mKeyboardInterrupt\u001b[0m                         Traceback (most recent call last)",
      "Cell \u001b[0;32mIn[56], line 50\u001b[0m\n\u001b[1;32m     46\u001b[0m         plt\u001b[38;5;241m.\u001b[39mshow()\n\u001b[1;32m     48\u001b[0m     \u001b[38;5;28;01mreturn\u001b[39;00m np\u001b[38;5;241m.\u001b[39mmean(np\u001b[38;5;241m.\u001b[39marray(accuracy))\n\u001b[0;32m---> 50\u001b[0m \u001b[43mtrain\u001b[49m\u001b[43m(\u001b[49m\u001b[43mX_train\u001b[49m\u001b[43m,\u001b[49m\u001b[43m \u001b[49m\u001b[43mX_test\u001b[49m\u001b[43m,\u001b[49m\u001b[43m \u001b[49m\u001b[43mY_train\u001b[49m\u001b[43m,\u001b[49m\u001b[43m \u001b[49m\u001b[43mY_test\u001b[49m\u001b[43m)\u001b[49m\n",
      "Cell \u001b[0;32mIn[56], line 11\u001b[0m, in \u001b[0;36mtrain\u001b[0;34m(X_train, X_test, Y_train, Y_test, eval)\u001b[0m\n\u001b[1;32m      9\u001b[0m X \u001b[38;5;241m=\u001b[39m torch\u001b[38;5;241m.\u001b[39mtensor(np\u001b[38;5;241m.\u001b[39mexpand_dims(X, axis\u001b[38;5;241m=\u001b[39m\u001b[38;5;241m1\u001b[39m), dtype\u001b[38;5;241m=\u001b[39mtorch\u001b[38;5;241m.\u001b[39mfloat32)\u001b[38;5;241m.\u001b[39mto(device)\n\u001b[1;32m     10\u001b[0m y \u001b[38;5;241m=\u001b[39m torch\u001b[38;5;241m.\u001b[39mtensor([Y_train[i]] \u001b[38;5;241m*\u001b[39m X\u001b[38;5;241m.\u001b[39mshape[\u001b[38;5;241m0\u001b[39m], dtype\u001b[38;5;241m=\u001b[39mtorch\u001b[38;5;241m.\u001b[39mlong)\u001b[38;5;241m.\u001b[39mto(device)\n\u001b[0;32m---> 11\u001b[0m outputs \u001b[38;5;241m=\u001b[39m \u001b[43mmodel\u001b[49m\u001b[43m(\u001b[49m\u001b[43mX\u001b[49m\u001b[43m)\u001b[49m \n\u001b[1;32m     12\u001b[0m loss \u001b[38;5;241m=\u001b[39m criterion(outputs, y ) \n\u001b[1;32m     13\u001b[0m optimizer\u001b[38;5;241m.\u001b[39mzero_grad() \n",
      "File \u001b[0;32m~/Library/Python/3.8/lib/python/site-packages/torch/nn/modules/module.py:1532\u001b[0m, in \u001b[0;36mModule._wrapped_call_impl\u001b[0;34m(self, *args, **kwargs)\u001b[0m\n\u001b[1;32m   1530\u001b[0m     \u001b[38;5;28;01mreturn\u001b[39;00m \u001b[38;5;28mself\u001b[39m\u001b[38;5;241m.\u001b[39m_compiled_call_impl(\u001b[38;5;241m*\u001b[39margs, \u001b[38;5;241m*\u001b[39m\u001b[38;5;241m*\u001b[39mkwargs)  \u001b[38;5;66;03m# type: ignore[misc]\u001b[39;00m\n\u001b[1;32m   1531\u001b[0m \u001b[38;5;28;01melse\u001b[39;00m:\n\u001b[0;32m-> 1532\u001b[0m     \u001b[38;5;28;01mreturn\u001b[39;00m \u001b[38;5;28;43mself\u001b[39;49m\u001b[38;5;241;43m.\u001b[39;49m\u001b[43m_call_impl\u001b[49m\u001b[43m(\u001b[49m\u001b[38;5;241;43m*\u001b[39;49m\u001b[43margs\u001b[49m\u001b[43m,\u001b[49m\u001b[43m \u001b[49m\u001b[38;5;241;43m*\u001b[39;49m\u001b[38;5;241;43m*\u001b[39;49m\u001b[43mkwargs\u001b[49m\u001b[43m)\u001b[49m\n",
      "File \u001b[0;32m~/Library/Python/3.8/lib/python/site-packages/torch/nn/modules/module.py:1541\u001b[0m, in \u001b[0;36mModule._call_impl\u001b[0;34m(self, *args, **kwargs)\u001b[0m\n\u001b[1;32m   1536\u001b[0m \u001b[38;5;66;03m# If we don't have any hooks, we want to skip the rest of the logic in\u001b[39;00m\n\u001b[1;32m   1537\u001b[0m \u001b[38;5;66;03m# this function, and just call forward.\u001b[39;00m\n\u001b[1;32m   1538\u001b[0m \u001b[38;5;28;01mif\u001b[39;00m \u001b[38;5;129;01mnot\u001b[39;00m (\u001b[38;5;28mself\u001b[39m\u001b[38;5;241m.\u001b[39m_backward_hooks \u001b[38;5;129;01mor\u001b[39;00m \u001b[38;5;28mself\u001b[39m\u001b[38;5;241m.\u001b[39m_backward_pre_hooks \u001b[38;5;129;01mor\u001b[39;00m \u001b[38;5;28mself\u001b[39m\u001b[38;5;241m.\u001b[39m_forward_hooks \u001b[38;5;129;01mor\u001b[39;00m \u001b[38;5;28mself\u001b[39m\u001b[38;5;241m.\u001b[39m_forward_pre_hooks\n\u001b[1;32m   1539\u001b[0m         \u001b[38;5;129;01mor\u001b[39;00m _global_backward_pre_hooks \u001b[38;5;129;01mor\u001b[39;00m _global_backward_hooks\n\u001b[1;32m   1540\u001b[0m         \u001b[38;5;129;01mor\u001b[39;00m _global_forward_hooks \u001b[38;5;129;01mor\u001b[39;00m _global_forward_pre_hooks):\n\u001b[0;32m-> 1541\u001b[0m     \u001b[38;5;28;01mreturn\u001b[39;00m \u001b[43mforward_call\u001b[49m\u001b[43m(\u001b[49m\u001b[38;5;241;43m*\u001b[39;49m\u001b[43margs\u001b[49m\u001b[43m,\u001b[49m\u001b[43m \u001b[49m\u001b[38;5;241;43m*\u001b[39;49m\u001b[38;5;241;43m*\u001b[39;49m\u001b[43mkwargs\u001b[49m\u001b[43m)\u001b[49m\n\u001b[1;32m   1543\u001b[0m \u001b[38;5;28;01mtry\u001b[39;00m:\n\u001b[1;32m   1544\u001b[0m     result \u001b[38;5;241m=\u001b[39m \u001b[38;5;28;01mNone\u001b[39;00m\n",
      "Cell \u001b[0;32mIn[54], line 20\u001b[0m, in \u001b[0;36mCNN.forward\u001b[0;34m(self, x)\u001b[0m\n\u001b[1;32m     18\u001b[0m x \u001b[38;5;241m=\u001b[39m F\u001b[38;5;241m.\u001b[39mrelu(\u001b[38;5;28mself\u001b[39m\u001b[38;5;241m.\u001b[39mbn1(\u001b[38;5;28mself\u001b[39m\u001b[38;5;241m.\u001b[39mconv1(x)))\n\u001b[1;32m     19\u001b[0m x \u001b[38;5;241m=\u001b[39m \u001b[38;5;28mself\u001b[39m\u001b[38;5;241m.\u001b[39mpool(x)\n\u001b[0;32m---> 20\u001b[0m x \u001b[38;5;241m=\u001b[39m F\u001b[38;5;241m.\u001b[39mrelu(\u001b[38;5;28mself\u001b[39m\u001b[38;5;241m.\u001b[39mbn2(\u001b[38;5;28;43mself\u001b[39;49m\u001b[38;5;241;43m.\u001b[39;49m\u001b[43mconv2\u001b[49m\u001b[43m(\u001b[49m\u001b[43mx\u001b[49m\u001b[43m)\u001b[49m))\n\u001b[1;32m     21\u001b[0m x \u001b[38;5;241m=\u001b[39m \u001b[38;5;28mself\u001b[39m\u001b[38;5;241m.\u001b[39mpool(x)\n\u001b[1;32m     22\u001b[0m x \u001b[38;5;241m=\u001b[39m F\u001b[38;5;241m.\u001b[39mrelu(\u001b[38;5;28mself\u001b[39m\u001b[38;5;241m.\u001b[39mbn3(\u001b[38;5;28mself\u001b[39m\u001b[38;5;241m.\u001b[39mconv3(x)))\n",
      "File \u001b[0;32m~/Library/Python/3.8/lib/python/site-packages/torch/nn/modules/module.py:1532\u001b[0m, in \u001b[0;36mModule._wrapped_call_impl\u001b[0;34m(self, *args, **kwargs)\u001b[0m\n\u001b[1;32m   1530\u001b[0m     \u001b[38;5;28;01mreturn\u001b[39;00m \u001b[38;5;28mself\u001b[39m\u001b[38;5;241m.\u001b[39m_compiled_call_impl(\u001b[38;5;241m*\u001b[39margs, \u001b[38;5;241m*\u001b[39m\u001b[38;5;241m*\u001b[39mkwargs)  \u001b[38;5;66;03m# type: ignore[misc]\u001b[39;00m\n\u001b[1;32m   1531\u001b[0m \u001b[38;5;28;01melse\u001b[39;00m:\n\u001b[0;32m-> 1532\u001b[0m     \u001b[38;5;28;01mreturn\u001b[39;00m \u001b[38;5;28;43mself\u001b[39;49m\u001b[38;5;241;43m.\u001b[39;49m\u001b[43m_call_impl\u001b[49m\u001b[43m(\u001b[49m\u001b[38;5;241;43m*\u001b[39;49m\u001b[43margs\u001b[49m\u001b[43m,\u001b[49m\u001b[43m \u001b[49m\u001b[38;5;241;43m*\u001b[39;49m\u001b[38;5;241;43m*\u001b[39;49m\u001b[43mkwargs\u001b[49m\u001b[43m)\u001b[49m\n",
      "File \u001b[0;32m~/Library/Python/3.8/lib/python/site-packages/torch/nn/modules/module.py:1541\u001b[0m, in \u001b[0;36mModule._call_impl\u001b[0;34m(self, *args, **kwargs)\u001b[0m\n\u001b[1;32m   1536\u001b[0m \u001b[38;5;66;03m# If we don't have any hooks, we want to skip the rest of the logic in\u001b[39;00m\n\u001b[1;32m   1537\u001b[0m \u001b[38;5;66;03m# this function, and just call forward.\u001b[39;00m\n\u001b[1;32m   1538\u001b[0m \u001b[38;5;28;01mif\u001b[39;00m \u001b[38;5;129;01mnot\u001b[39;00m (\u001b[38;5;28mself\u001b[39m\u001b[38;5;241m.\u001b[39m_backward_hooks \u001b[38;5;129;01mor\u001b[39;00m \u001b[38;5;28mself\u001b[39m\u001b[38;5;241m.\u001b[39m_backward_pre_hooks \u001b[38;5;129;01mor\u001b[39;00m \u001b[38;5;28mself\u001b[39m\u001b[38;5;241m.\u001b[39m_forward_hooks \u001b[38;5;129;01mor\u001b[39;00m \u001b[38;5;28mself\u001b[39m\u001b[38;5;241m.\u001b[39m_forward_pre_hooks\n\u001b[1;32m   1539\u001b[0m         \u001b[38;5;129;01mor\u001b[39;00m _global_backward_pre_hooks \u001b[38;5;129;01mor\u001b[39;00m _global_backward_hooks\n\u001b[1;32m   1540\u001b[0m         \u001b[38;5;129;01mor\u001b[39;00m _global_forward_hooks \u001b[38;5;129;01mor\u001b[39;00m _global_forward_pre_hooks):\n\u001b[0;32m-> 1541\u001b[0m     \u001b[38;5;28;01mreturn\u001b[39;00m \u001b[43mforward_call\u001b[49m\u001b[43m(\u001b[49m\u001b[38;5;241;43m*\u001b[39;49m\u001b[43margs\u001b[49m\u001b[43m,\u001b[49m\u001b[43m \u001b[49m\u001b[38;5;241;43m*\u001b[39;49m\u001b[38;5;241;43m*\u001b[39;49m\u001b[43mkwargs\u001b[49m\u001b[43m)\u001b[49m\n\u001b[1;32m   1543\u001b[0m \u001b[38;5;28;01mtry\u001b[39;00m:\n\u001b[1;32m   1544\u001b[0m     result \u001b[38;5;241m=\u001b[39m \u001b[38;5;28;01mNone\u001b[39;00m\n",
      "File \u001b[0;32m~/Library/Python/3.8/lib/python/site-packages/torch/nn/modules/conv.py:460\u001b[0m, in \u001b[0;36mConv2d.forward\u001b[0;34m(self, input)\u001b[0m\n\u001b[1;32m    459\u001b[0m \u001b[38;5;28;01mdef\u001b[39;00m \u001b[38;5;21mforward\u001b[39m(\u001b[38;5;28mself\u001b[39m, \u001b[38;5;28minput\u001b[39m: Tensor) \u001b[38;5;241m-\u001b[39m\u001b[38;5;241m>\u001b[39m Tensor:\n\u001b[0;32m--> 460\u001b[0m     \u001b[38;5;28;01mreturn\u001b[39;00m \u001b[38;5;28;43mself\u001b[39;49m\u001b[38;5;241;43m.\u001b[39;49m\u001b[43m_conv_forward\u001b[49m\u001b[43m(\u001b[49m\u001b[38;5;28;43minput\u001b[39;49m\u001b[43m,\u001b[49m\u001b[43m \u001b[49m\u001b[38;5;28;43mself\u001b[39;49m\u001b[38;5;241;43m.\u001b[39;49m\u001b[43mweight\u001b[49m\u001b[43m,\u001b[49m\u001b[43m \u001b[49m\u001b[38;5;28;43mself\u001b[39;49m\u001b[38;5;241;43m.\u001b[39;49m\u001b[43mbias\u001b[49m\u001b[43m)\u001b[49m\n",
      "File \u001b[0;32m~/Library/Python/3.8/lib/python/site-packages/torch/nn/modules/conv.py:456\u001b[0m, in \u001b[0;36mConv2d._conv_forward\u001b[0;34m(self, input, weight, bias)\u001b[0m\n\u001b[1;32m    452\u001b[0m \u001b[38;5;28;01mif\u001b[39;00m \u001b[38;5;28mself\u001b[39m\u001b[38;5;241m.\u001b[39mpadding_mode \u001b[38;5;241m!=\u001b[39m \u001b[38;5;124m'\u001b[39m\u001b[38;5;124mzeros\u001b[39m\u001b[38;5;124m'\u001b[39m:\n\u001b[1;32m    453\u001b[0m     \u001b[38;5;28;01mreturn\u001b[39;00m F\u001b[38;5;241m.\u001b[39mconv2d(F\u001b[38;5;241m.\u001b[39mpad(\u001b[38;5;28minput\u001b[39m, \u001b[38;5;28mself\u001b[39m\u001b[38;5;241m.\u001b[39m_reversed_padding_repeated_twice, mode\u001b[38;5;241m=\u001b[39m\u001b[38;5;28mself\u001b[39m\u001b[38;5;241m.\u001b[39mpadding_mode),\n\u001b[1;32m    454\u001b[0m                     weight, bias, \u001b[38;5;28mself\u001b[39m\u001b[38;5;241m.\u001b[39mstride,\n\u001b[1;32m    455\u001b[0m                     _pair(\u001b[38;5;241m0\u001b[39m), \u001b[38;5;28mself\u001b[39m\u001b[38;5;241m.\u001b[39mdilation, \u001b[38;5;28mself\u001b[39m\u001b[38;5;241m.\u001b[39mgroups)\n\u001b[0;32m--> 456\u001b[0m \u001b[38;5;28;01mreturn\u001b[39;00m \u001b[43mF\u001b[49m\u001b[38;5;241;43m.\u001b[39;49m\u001b[43mconv2d\u001b[49m\u001b[43m(\u001b[49m\u001b[38;5;28;43minput\u001b[39;49m\u001b[43m,\u001b[49m\u001b[43m \u001b[49m\u001b[43mweight\u001b[49m\u001b[43m,\u001b[49m\u001b[43m \u001b[49m\u001b[43mbias\u001b[49m\u001b[43m,\u001b[49m\u001b[43m \u001b[49m\u001b[38;5;28;43mself\u001b[39;49m\u001b[38;5;241;43m.\u001b[39;49m\u001b[43mstride\u001b[49m\u001b[43m,\u001b[49m\n\u001b[1;32m    457\u001b[0m \u001b[43m                \u001b[49m\u001b[38;5;28;43mself\u001b[39;49m\u001b[38;5;241;43m.\u001b[39;49m\u001b[43mpadding\u001b[49m\u001b[43m,\u001b[49m\u001b[43m \u001b[49m\u001b[38;5;28;43mself\u001b[39;49m\u001b[38;5;241;43m.\u001b[39;49m\u001b[43mdilation\u001b[49m\u001b[43m,\u001b[49m\u001b[43m \u001b[49m\u001b[38;5;28;43mself\u001b[39;49m\u001b[38;5;241;43m.\u001b[39;49m\u001b[43mgroups\u001b[49m\u001b[43m)\u001b[49m\n",
      "\u001b[0;31mKeyboardInterrupt\u001b[0m: "
     ]
    }
   ],
   "source": [
    "def train(X_train, X_test, Y_train, Y_test, eval=True):\n",
    "    losses = []\n",
    "    accuracy = []\n",
    "    epochs = []\n",
    "    for epoch in range(num_epochs):\n",
    "        model.train()  \n",
    "        for i, X in enumerate(X_train):\n",
    "            #ajour d'une dimension pour le nombre de cannaux \n",
    "            X = torch.tensor(np.expand_dims(X, axis=1), dtype=torch.float32).to(device)\n",
    "            y = torch.tensor([Y_train[i]] * X.shape[0], dtype=torch.long).to(device)\n",
    "            outputs = model(X) \n",
    "            loss = criterion(outputs, y) \n",
    "            optimizer.zero_grad() \n",
    "            loss.backward()  \n",
    "            torch.nn.utils.clip_grad_norm_(model.parameters(), max_norm=1)      \n",
    "            optimizer.step()      \n",
    "\n",
    "        if (eval):\n",
    "            #test\n",
    "            with torch.no_grad():\n",
    "                model.eval()\n",
    "                total_loss = 0\n",
    "                good_preds = 0\n",
    "                total_preds = 0\n",
    "                for i, X in enumerate(X_test):\n",
    "                    X = torch.tensor(np.expand_dims(X, axis=1), dtype=torch.float32).to(device)\n",
    "                    y = torch.tensor([Y_test[i]], dtype=torch.long).to(device)\n",
    "                    pred = model(X)\n",
    "                    total_loss += criterion(pred.unsqueeze(0), y)\n",
    "                    if (torch.argmax(pred).item() == y.item()):\n",
    "                        good_preds += 1\n",
    "                    total_preds += 1\n",
    "            losses.append(total_loss)\n",
    "            accuracy.append(good_preds/total_preds)\n",
    "            epochs.append(epoch)\n",
    "\n",
    "            if (epoch%10==0):\n",
    "                print(f'Epoch [{epoch+1}/{num_epochs}], Loss: {total_loss.item():.4f}')\n",
    "\n",
    "    if (eval):\n",
    "        _, axes = plt.subplots(nrows=1, ncols=2)\n",
    "        axes[0].plot(epochs, accuracy)    \n",
    "        axes[0].set_title('accuracy')\n",
    "        axes[1].plot(epochs, losses)\n",
    "        axes[1].set_title('error')\n",
    "        plt.show()\n",
    "\n",
    "    return np.mean(np.array(accuracy))\n",
    "\n",
    "train(X_train, X_test, Y_train, Y_test)"
   ]
  },
  {
   "cell_type": "code",
   "execution_count": 62,
   "id": "1bc5245e",
   "metadata": {},
   "outputs": [
    {
     "name": "stdout",
     "output_type": "stream",
     "text": [
      "score for leave on out validation is 0.4955\n"
     ]
    }
   ],
   "source": [
    "score = leave_one_out_cross_score(X_preprossed, Y_preprossed, S, train_method=train)\n",
    "print(f\"score for leave on out validation is {score}\")"
   ]
  },
  {
   "cell_type": "markdown",
   "id": "a056a1bb",
   "metadata": {},
   "source": [
    "# with data augmentation ..."
   ]
  },
  {
   "cell_type": "code",
   "execution_count": 88,
   "id": "efda0eff",
   "metadata": {},
   "outputs": [
    {
     "name": "stdout",
     "output_type": "stream",
     "text": [
      "(24157,)\n"
     ]
    },
    {
     "ename": "",
     "evalue": "",
     "output_type": "error",
     "traceback": [
      "\u001b[1;31mThe Kernel crashed while executing code in the current cell or a previous cell. \n",
      "\u001b[1;31mPlease review the code in the cell(s) to identify a possible cause of the failure. \n",
      "\u001b[1;31mClick <a href='https://aka.ms/vscodeJupyterKernelCrash'>here</a> for more info. \n",
      "\u001b[1;31mView Jupyter <a href='command:jupyter.viewOutput'>log</a> for further details."
     ]
    }
   ],
   "source": [
    "X_augmented, Y_preprossed, S_augmented = data_augment(X_preprossed, Y_preprossed, S, pourcentage=0.10)\n",
    "X_preprossed = np.concatenate((X_preprossed, X_augmented), axis=0)\n",
    "Y_preprossed = np.concatenate((Y_preprossed, Y_preprossed), axis=0)\n",
    "S = np.concatenate((S, S_augmented), axis=0)\n",
    "\n",
    "print(X_preprossed.shape)"
   ]
  }
 ],
 "metadata": {
  "kernelspec": {
   "display_name": "Python 3 (ipykernel)",
   "language": "python",
   "name": "python3"
  },
  "language_info": {
   "codemirror_mode": {
    "name": "ipython",
    "version": 3
   },
   "file_extension": ".py",
   "mimetype": "text/x-python",
   "name": "python",
   "nbconvert_exporter": "python",
   "pygments_lexer": "ipython3",
   "version": "3.8.9"
  }
 },
 "nbformat": 4,
 "nbformat_minor": 5
}
